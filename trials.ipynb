{
 "cells": [
  {
   "cell_type": "markdown",
   "metadata": {},
   "source": [
    "####################################################################################################\n",
    "# Team Arfaolmdx.\n",
    "Modify the code as needed before pushing to the repository.\\\n",
    "Use this notebook for testing.\\\n",
    "Do not forget to restart the kernel if there is any change in CWD.\\\n",
    "####################################################################################################"
   ]
  },
  {
   "cell_type": "code",
   "execution_count": 1,
   "metadata": {},
   "outputs": [],
   "source": [
    "import utils\n",
    "import src\n",
    "import data"
   ]
  }
 ],
 "metadata": {
  "kernelspec": {
   "display_name": "base",
   "language": "python",
   "name": "python3"
  },
  "language_info": {
   "codemirror_mode": {
    "name": "ipython",
    "version": 3
   },
   "file_extension": ".py",
   "mimetype": "text/x-python",
   "name": "python",
   "nbconvert_exporter": "python",
   "pygments_lexer": "ipython3",
   "version": "3.12.2"
  }
 },
 "nbformat": 4,
 "nbformat_minor": 2
}
